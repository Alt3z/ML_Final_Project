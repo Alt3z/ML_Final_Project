{
  "cells": [
    {
      "cell_type": "code",
      "execution_count": null,
      "metadata": {
        "colab": {
          "base_uri": "https://localhost:8080/"
        },
        "id": "eEzpvC-RSw3u",
        "outputId": "73752843-a239-44f6-d3f4-10b1057e1a23"
      },
      "outputs": [
        {
          "output_type": "stream",
          "name": "stdout",
          "text": [
            "Warning: Looks like you're using an outdated `kagglehub` version (installed: 0.3.5), please consider upgrading to the latest version (0.3.6).\n",
            "Path to dataset files: /root/.cache/kagglehub/datasets/apollo2506/eurosat-dataset/versions/6\n"
          ]
        }
      ],
      "source": [
        "import kagglehub\n",
        "\n",
        "dataset_path = kagglehub.dataset_download(\"apollo2506/eurosat-dataset\")\n",
        "print(\"Path to dataset files:\", dataset_path)"
      ]
    },
    {
      "cell_type": "code",
      "execution_count": null,
      "metadata": {
        "colab": {
          "base_uri": "https://localhost:8080/"
        },
        "id": "Ff-hWvJzUjx7",
        "outputId": "7bf46493-c3d3-434a-b614-dfec64c8eae5"
      },
      "outputs": [
        {
          "output_type": "stream",
          "name": "stdout",
          "text": [
            "Files in the dataset: ['EuroSAT', 'EuroSATallBands']\n"
          ]
        }
      ],
      "source": [
        "import os\n",
        "\n",
        "files = os.listdir(dataset_path)\n",
        "print(\"Files in the dataset:\", files)"
      ]
    },
    {
      "cell_type": "code",
      "execution_count": null,
      "metadata": {
        "colab": {
          "base_uri": "https://localhost:8080/"
        },
        "id": "BJxkC_51U4KG",
        "outputId": "800e714a-9a09-4613-a7d3-6d50647933aa"
      },
      "outputs": [
        {
          "output_type": "stream",
          "name": "stdout",
          "text": [
            "Number of files in 'EuroSAT': 14\n"
          ]
        }
      ],
      "source": [
        "sat_path = os.path.join(dataset_path, 'EuroSAT')\n",
        "single_band_files = os.listdir(sat_path)\n",
        "print(f\"Number of files in 'EuroSAT': {len(single_band_files)}\")"
      ]
    },
    {
      "cell_type": "code",
      "execution_count": null,
      "metadata": {
        "colab": {
          "base_uri": "https://localhost:8080/"
        },
        "id": "Nv8xR1xIVAzK",
        "outputId": "36a65054-9fd0-4c8b-b534-507756a9899a"
      },
      "outputs": [
        {
          "output_type": "stream",
          "name": "stdout",
          "text": [
            "Files in 'EuroSAT': ['SeaLake', 'Pasture', 'validation.csv', 'Forest', 'AnnualCrop', 'HerbaceousVegetation', 'test.csv', 'Residential', 'Highway', 'River', 'PermanentCrop', 'Industrial', 'label_map.json', 'train.csv']\n"
          ]
        }
      ],
      "source": [
        "print(\"Files in 'EuroSAT':\", single_band_files)"
      ]
    },
    {
      "cell_type": "code",
      "execution_count": null,
      "metadata": {
        "colab": {
          "base_uri": "https://localhost:8080/"
        },
        "id": "QA_m87CVVJy1",
        "outputId": "b11c834c-7bec-4bc6-9c90-80893a82b8fc"
      },
      "outputs": [
        {
          "output_type": "execute_result",
          "data": {
            "text/plain": [
              "(   Unnamed: 0                                           Filename  Label  \\\n",
              " 0       16257                      AnnualCrop/AnnualCrop_142.jpg      0   \n",
              " 1        3297  HerbaceousVegetation/HerbaceousVegetation_2835...      2   \n",
              " 2       17881               PermanentCrop/PermanentCrop_1073.jpg      6   \n",
              " 3        2223                      Industrial/Industrial_453.jpg      4   \n",
              " 4        4887  HerbaceousVegetation/HerbaceousVegetation_1810...      2   \n",
              " \n",
              "               ClassName  \n",
              " 0            AnnualCrop  \n",
              " 1  HerbaceousVegetation  \n",
              " 2         PermanentCrop  \n",
              " 3            Industrial  \n",
              " 4  HerbaceousVegetation  ,\n",
              "    Unnamed: 0                          Filename  Label    ClassName\n",
              " 0        2438    AnnualCrop/AnnualCrop_1275.jpg      0   AnnualCrop\n",
              " 1        1018   Residential/Residential_504.jpg      7  Residential\n",
              " 2           3           Pasture/Pasture_787.jpg      5      Pasture\n",
              " 3        1011  Residential/Residential_1575.jpg      7  Residential\n",
              " 4          47           Pasture/Pasture_473.jpg      5      Pasture,\n",
              "    Unnamed: 0                  Filename  Label ClassName\n",
              " 0         258  Pasture/Pasture_1481.jpg      5   Pasture\n",
              " 1        2134    Forest/Forest_2638.jpg      1    Forest\n",
              " 2        3518   Highway/Highway_875.jpg      3   Highway\n",
              " 3        3048       River/River_434.jpg      8     River\n",
              " 4        3996  SeaLake/SeaLake_2930.jpg      9   SeaLake)"
            ]
          },
          "metadata": {},
          "execution_count": 12
        }
      ],
      "source": [
        "import pandas as pd\n",
        "\n",
        "train_csv_path = os.path.join(sat_path, 'train.csv')\n",
        "test_csv_path = os.path.join(sat_path, 'test.csv')\n",
        "validation_csv_path = os.path.join(sat_path, 'validation.csv')\n",
        "\n",
        "train_data = pd.read_csv(train_csv_path)\n",
        "test_data = pd.read_csv(test_csv_path)\n",
        "validation_data = pd.read_csv(validation_csv_path)\n",
        "\n",
        "train_data.head(), test_data.head(), validation_data.head()"
      ]
    },
    {
      "cell_type": "markdown",
      "source": [
        "В результатах представлена информация о трех наборах данных: тренировочном, тестовом и валидационном. Все наборы имеют одинаковую структуру, включающую идентификатор, путь к файлу изображения, метку и название класса. В каждом наборе встречаются разные классы, такие как AnnualCrop, HerbaceousVegetation, Residential и другие.\n",
        "\n",
        "Строки данных показывают, что изображения организованы по папкам, названия которых соответствуют меткам классов. Метки в колонке Label правильно соответствуют названиям классов в колонке ClassName."
      ],
      "metadata": {
        "id": "W1dmIGDGs9T1"
      }
    },
    {
      "cell_type": "code",
      "execution_count": null,
      "metadata": {
        "colab": {
          "base_uri": "https://localhost:8080/",
          "height": 448
        },
        "id": "glhil9j3VRpB",
        "outputId": "67b4b85b-3fbe-427c-cd01-c0a1627656cf"
      },
      "outputs": [
        {
          "output_type": "display_data",
          "data": {
            "text/plain": [
              "<Figure size 1800x500 with 3 Axes>"
            ],
            "image/png": "[encoded data removed]"
          },
          "metadata": {}
        }
      ],
      "source": [
        "import matplotlib.pyplot as plt\n",
        "\n",
        "train_class_counts = train_data['ClassName'].value_counts()\n",
        "test_class_counts = test_data['ClassName'].value_counts()\n",
        "validation_class_counts = validation_data['ClassName'].value_counts()\n",
        "\n",
        "fig, axes = plt.subplots(1, 3, figsize=(18, 5))\n",
        "\n",
        "train_class_counts.plot(kind='bar', ax=axes[0], title='Распределение классов Train')\n",
        "axes[0].set_xlabel('Название класса')\n",
        "axes[0].set_ylabel('Количество изображений')\n",
        "\n",
        "test_class_counts.plot(kind='bar', ax=axes[1], title='Распределение классов Test')\n",
        "axes[1].set_xlabel('Название класса')\n",
        "axes[1].set_ylabel('Количество изображений')\n",
        "\n",
        "validation_class_counts.plot(kind='bar', ax=axes[2], title='Распределение классов Validation')\n",
        "axes[2].set_xlabel('Название класса')\n",
        "axes[2].set_ylabel('Количество изображений')\n",
        "\n",
        "plt.tight_layout()\n",
        "plt.show()"
      ]
    },
    {
      "cell_type": "markdown",
      "metadata": {
        "id": "wt9r5bb2V-Ku"
      },
      "source": [
        "Для дальнейшего анализа был выбран тренировочный набор данных, так как он содержит наибольшее количество изображений среди всех трех наборов (около 2000+ изображений). Это позволяет более детально изучить структуру данных, выявить редкие классы и провести более глубокий анализ на предмет пропусков и выбросов. Также использование тренировочного набора даст нам больше возможностей для обучения модели и лучшего понимания данных перед использованием тестового и валидационного наборов для проверки производительности модели."
      ]
    },
    {
      "cell_type": "code",
      "execution_count": null,
      "metadata": {
        "colab": {
          "base_uri": "https://localhost:8080/"
        },
        "id": "1aklJXY0V_iS",
        "outputId": "fe0ac9c5-2695-4abc-91b5-238c96643fcb"
      },
      "outputs": [
        {
          "output_type": "stream",
          "name": "stdout",
          "text": [
            "Информация о train данных:\n",
            "<class 'pandas.core.frame.DataFrame'>\n",
            "RangeIndex: 18900 entries, 0 to 18899\n",
            "Data columns (total 4 columns):\n",
            " #   Column      Non-Null Count  Dtype \n",
            "---  ------      --------------  ----- \n",
            " 0   Unnamed: 0  18900 non-null  int64 \n",
            " 1   Filename    18900 non-null  object\n",
            " 2   Label       18900 non-null  int64 \n",
            " 3   ClassName   18900 non-null  object\n",
            "dtypes: int64(2), object(2)\n",
            "memory usage: 590.8+ KB\n",
            "None\n",
            "Отсутствующие значения:\n",
            "Unnamed: 0    0\n",
            "Filename      0\n",
            "Label         0\n",
            "ClassName     0\n",
            "dtype: int64\n",
            "Минимальный размер изображений width     64\n",
            "height    64\n",
            "dtype: int64\n",
            "Максимальный размер изображений: width     64\n",
            "height    64\n",
            "dtype: int64\n"
          ]
        }
      ],
      "source": [
        "import pandas as pd\n",
        "import os\n",
        "from PIL import Image, UnidentifiedImageError\n",
        "\n",
        "train_csv_path = os.path.join(sat_path, 'train.csv')\n",
        "train_data = pd.read_csv(train_csv_path)\n",
        "\n",
        "print(\"Информация о train данных:\")\n",
        "print(train_data.info())\n",
        "\n",
        "missing_values = train_data.isnull().sum()\n",
        "print(f\"Отсутствующие значения:\\n{missing_values}\")\n",
        "\n",
        "def load_image(image_path):\n",
        "  with open(image_path, 'rb') as f:\n",
        "      img = Image.open(f)\n",
        "      img.verify()\n",
        "      return img\n",
        "\n",
        "train_images = train_data['Filename'].apply(lambda x: os.path.join(sat_path, x))\n",
        "image_sizes = []\n",
        "\n",
        "for image_path in train_images:\n",
        "  img = load_image(image_path)\n",
        "  if img: image_sizes.append(img.size)\n",
        "  else: continue\n",
        "\n",
        "image_sizes_df = pd.DataFrame(image_sizes, columns=['width', 'height'])\n",
        "print(f\"Минимальный размер изображений {image_sizes_df.min()}\")\n",
        "print(f\"Максимальный размер изображений: {image_sizes_df.max()}\")"
      ]
    },
    {
      "cell_type": "markdown",
      "metadata": {
        "id": "-EtDR8GZYW4U"
      },
      "source": [
        "Данные показывают, что изображения в наборе EuroSAT имеют одинаковый размер 64x64 пикселей, соответствуя описанию набора данных. В train_data отсутствуют пропуски во всех колонках (Unnamed: 0, Filename, Label, ClassName). Это свидетельствует о хорошем качестве данных и предсказуемости для дальнейших задач классификации. Все изображения в наборе имеют одинаковый размер, что упрощает их обработку в дальнейшем."
      ]
    },
    {
      "cell_type": "code",
      "execution_count": null,
      "metadata": {
        "colab": {
          "base_uri": "https://localhost:8080/"
        },
        "id": "tlqnRWKJYXts",
        "outputId": "2e31e802-138e-48c2-ab80-421566394358"
      },
      "outputs": [
        {
          "output_type": "stream",
          "name": "stdout",
          "text": [
            "Точность: 0.6185185185185185\n",
            "Классификационный отчет:\n",
            "              precision    recall  f1-score   support\n",
            "\n",
            "           0       0.55      0.65      0.59       637\n",
            "           1       0.76      0.89      0.82       627\n",
            "           2       0.61      0.42      0.50       637\n",
            "           3       0.52      0.17      0.26       558\n",
            "           4       0.70      0.87      0.78       521\n",
            "           5       0.66      0.75      0.70       398\n",
            "           6       0.42      0.30      0.35       497\n",
            "           7       0.44      0.67      0.53       632\n",
            "           8       0.56      0.63      0.59       533\n",
            "           9       0.93      0.81      0.87       630\n",
            "\n",
            "    accuracy                           0.62      5670\n",
            "   macro avg       0.62      0.62      0.60      5670\n",
            "weighted avg       0.62      0.62      0.60      5670\n",
            "\n",
            "Матрица ошибок:\n",
            "[[412   7  25  17  16  20  34  51  44  11]\n",
            " [  0 561   2   0   0  30   0   6  11  17]\n",
            " [ 60  13 267  11  26  21  89 120  29   1]\n",
            " [ 66  30  20  95  33  32  23 136 122   1]\n",
            " [ 10   0   0   3 454   0   4  47   3   0]\n",
            " [  0  22  32   3   3 299   0  21  16   2]\n",
            " [150   1  63   4  25   8 150  89   7   0]\n",
            " [ 25   0  24  13  71   5  51 421  22   0]\n",
            " [ 27  43   1  35  15  18   1  50 336   7]\n",
            " [  0  57   7   0   3  23   1  14  13 512]]\n"
          ]
        }
      ],
      "source": [
        "from sklearn.ensemble import RandomForestClassifier\n",
        "from sklearn.model_selection import train_test_split\n",
        "from sklearn.metrics import accuracy_score, classification_report, confusion_matrix\n",
        "import numpy as np\n",
        "from PIL import Image\n",
        "import os\n",
        "\n",
        "def load_image(image_path):\n",
        "  try:\n",
        "    img = Image.open(image_path)\n",
        "    img = img.convert('RGB')\n",
        "    return np.array(img)\n",
        "  except: return None\n",
        "\n",
        "image_sizes = []\n",
        "X = []\n",
        "for filename in train_data['Filename']:\n",
        "  img = load_image(os.path.join(sat_path, filename))\n",
        "  if img is not None:\n",
        "    X.append(img.flatten())  # преобразование изображения в плоский массив\n",
        "    image_sizes.append(img.size)\n",
        "  else: continue  # пропуск поврежденные изображения\n",
        "\n",
        "# Нормализация данных\n",
        "X = np.array(X) / 255.0  # приведение значений пикселей к диапазону [0, 1]\n",
        "\n",
        "# Разделение на тренировочную и тестовую выборки\n",
        "y = train_data['Label']\n",
        "X_train, X_test, y_train, y_test = train_test_split(X, y, test_size=0.3, random_state=42)\n",
        "\n",
        "# Создание и обучение модели\n",
        "model_rf = RandomForestClassifier(n_estimators=100, max_depth=10, random_state=42)\n",
        "model_rf.fit(X_train, y_train)\n",
        "\n",
        "# Прогнозирование и оценка модели\n",
        "y_pred = model_rf.predict(X_test)\n",
        "accuracy = accuracy_score(y_test, y_pred)\n",
        "print(f\"Точность: {accuracy}\")\n",
        "print(f\"Классификационный отчет:\\n{classification_report(y_test, y_pred)}\")\n",
        "print(f\"Матрица ошибок:\\n{confusion_matrix(y_test, y_pred)}\")"
      ]
    },
    {
      "cell_type": "markdown",
      "metadata": {
        "id": "4biu71TTZp4q"
      },
      "source": [
        "Модель случайного леса показала точность 61.85% на тестовой выборке. Классификационный отчет демонстрирует разнообразные результаты по классам. Высокие значения точности и полноты наблюдаются для классов 1 (результат 0.82 по f1-score) и 9 (0.87 по f1-score), в то время как для класса 3 (например, Industrial) значения значительно ниже, с f1-score 0.26, что указывает на низкую точность в предсказаниях этого класса.\n",
        "\n",
        "Матрица ошибок показывает, что модель допускает значительные ошибки, особенно для классов с меньшим количеством примеров (например, класс 3). Хотя модель хорошо предсказывает несколько классов, она имеет проблемы с классификацией некоторых, что видно по высоким числам ошибок в соответствующих строках матрицы."
      ]
    },
    {
      "cell_type": "code",
      "execution_count": null,
      "metadata": {
        "colab": {
          "base_uri": "https://localhost:8080/"
        },
        "id": "S6nwFb2IaPNU",
        "outputId": "f6a24093-5bfe-4dd3-8d23-a4f60667760f"
      },
      "outputs": [
        {
          "output_type": "stream",
          "name": "stderr",
          "text": [
            "/usr/local/lib/python3.10/dist-packages/keras/src/layers/convolutional/base_conv.py:107: UserWarning: Do not pass an `input_shape`/`input_dim` argument to a layer. When using Sequential models, prefer using an `Input(shape)` object as the first layer in the model instead.\n",
            "  super().__init__(activity_regularizer=activity_regularizer, **kwargs)\n"
          ]
        },
        {
          "output_type": "stream",
          "name": "stdout",
          "text": [
            "Epoch 1/10\n",
            "\u001b[1m378/378\u001b[0m \u001b[32m━━━━━━━━━━━━━━━━━━━━\u001b[0m\u001b[37m\u001b[0m \u001b[1m74s\u001b[0m 191ms/step - accuracy: 0.3556 - loss: 1.6458 - val_accuracy: 0.5549 - val_loss: 1.3407\n",
            "Epoch 2/10\n",
            "\u001b[1m378/378\u001b[0m \u001b[32m━━━━━━━━━━━━━━━━━━━━\u001b[0m\u001b[37m\u001b[0m \u001b[1m78s\u001b[0m 182ms/step - accuracy: 0.6302 - loss: 1.0115 - val_accuracy: 0.6944 - val_loss: 0.8572\n",
            "Epoch 3/10\n",
            "\u001b[1m378/378\u001b[0m \u001b[32m━━━━━━━━━━━━━━━━━━━━\u001b[0m\u001b[37m\u001b[0m \u001b[1m73s\u001b[0m 194ms/step - accuracy: 0.7002 - loss: 0.8458 - val_accuracy: 0.6911 - val_loss: 0.8732\n",
            "Epoch 4/10\n",
            "\u001b[1m378/378\u001b[0m \u001b[32m━━━━━━━━━━━━━━━━━━━━\u001b[0m\u001b[37m\u001b[0m \u001b[1m78s\u001b[0m 184ms/step - accuracy: 0.7365 - loss: 0.7273 - val_accuracy: 0.7116 - val_loss: 0.7786\n",
            "Epoch 5/10\n",
            "\u001b[1m378/378\u001b[0m \u001b[32m━━━━━━━━━━━━━━━━━━━━\u001b[0m\u001b[37m\u001b[0m \u001b[1m69s\u001b[0m 183ms/step - accuracy: 0.7832 - loss: 0.6056 - val_accuracy: 0.7655 - val_loss: 0.6352\n",
            "Epoch 6/10\n",
            "\u001b[1m378/378\u001b[0m \u001b[32m━━━━━━━━━━━━━━━━━━━━\u001b[0m\u001b[37m\u001b[0m \u001b[1m68s\u001b[0m 179ms/step - accuracy: 0.8084 - loss: 0.5311 - val_accuracy: 0.7748 - val_loss: 0.6272\n",
            "Epoch 7/10\n",
            "\u001b[1m378/378\u001b[0m \u001b[32m━━━━━━━━━━━━━━━━━━━━\u001b[0m\u001b[37m\u001b[0m \u001b[1m81s\u001b[0m 176ms/step - accuracy: 0.8449 - loss: 0.4456 - val_accuracy: 0.7851 - val_loss: 0.6006\n",
            "Epoch 8/10\n",
            "\u001b[1m378/378\u001b[0m \u001b[32m━━━━━━━━━━━━━━━━━━━━\u001b[0m\u001b[37m\u001b[0m \u001b[1m68s\u001b[0m 180ms/step - accuracy: 0.8544 - loss: 0.4194 - val_accuracy: 0.7579 - val_loss: 0.6731\n",
            "Epoch 9/10\n",
            "\u001b[1m378/378\u001b[0m \u001b[32m━━━━━━━━━━━━━━━━━━━━\u001b[0m\u001b[37m\u001b[0m \u001b[1m69s\u001b[0m 182ms/step - accuracy: 0.8770 - loss: 0.3562 - val_accuracy: 0.7913 - val_loss: 0.6037\n",
            "Epoch 10/10\n",
            "\u001b[1m378/378\u001b[0m \u001b[32m━━━━━━━━━━━━━━━━━━━━\u001b[0m\u001b[37m\u001b[0m \u001b[1m81s\u001b[0m 181ms/step - accuracy: 0.8940 - loss: 0.3094 - val_accuracy: 0.7999 - val_loss: 0.5727\n",
            "\u001b[1m119/119\u001b[0m \u001b[32m━━━━━━━━━━━━━━━━━━━━\u001b[0m\u001b[37m\u001b[0m \u001b[1m5s\u001b[0m 41ms/step - accuracy: 0.8120 - loss: 0.5620\n",
            "Точность на тестовой выборке: 0.811640202999115\n"
          ]
        }
      ],
      "source": [
        "import pandas as pd\n",
        "import numpy as np\n",
        "import os\n",
        "from tensorflow.keras.utils import to_categorical\n",
        "from sklearn.model_selection import train_test_split\n",
        "from tensorflow.keras.preprocessing.image import load_img, img_to_array\n",
        "\n",
        "def load_images(filenames, image_dir):\n",
        "  images = []\n",
        "  for filename in filenames:\n",
        "    img = load_img(os.path.join(image_dir, filename), target_size=(64, 64))\n",
        "    img_array = img_to_array(img)\n",
        "    images.append(img_array)\n",
        "  return np.array(images)\n",
        "\n",
        "# Подготовка данных\n",
        "X = load_images(train_data['Filename'], sat_path)\n",
        "y = to_categorical(train_data['Label'], num_classes=10)\n",
        "\n",
        "# Деление на тренировочную и тестовую выборки\n",
        "X_train, X_test, y_train, y_test = train_test_split(X, y, test_size=0.2, random_state=42)\n",
        "\n",
        "# Нормализация данных\n",
        "X_train = X_train / 255.0  # приведение значений пикселей к диапазону [0, 1]\n",
        "X_test = X_test / 255.0\n",
        "\n",
        "# Создаем модель CNN\n",
        "from tensorflow.keras.models import Sequential\n",
        "from tensorflow.keras.layers import Conv2D, MaxPooling2D, Flatten, Dense\n",
        "from tensorflow.keras.optimizers import Adam\n",
        "\n",
        "model = Sequential([\n",
        "    Conv2D(32, (3, 3), activation='relu', input_shape=(64, 64, 3)),\n",
        "    MaxPooling2D((2, 2)),\n",
        "    Conv2D(64, (3, 3), activation='relu'),\n",
        "    MaxPooling2D((2, 2)),\n",
        "    Flatten(),\n",
        "    Dense(128, activation='relu'),\n",
        "    Dense(10, activation='softmax')\n",
        "])\n",
        "\n",
        "# Компиляция модели\n",
        "model.compile(optimizer=Adam(), loss='categorical_crossentropy', metrics=['accuracy'])\n",
        "\n",
        "# Обучение модели\n",
        "history = model.fit(X_train, y_train, epochs=10, batch_size=32, validation_split=0.2)\n",
        "\n",
        "# Оценка модели на тестовой выборке\n",
        "test_loss, test_acc = model.evaluate(X_test, y_test)\n",
        "print(f\"Точность на тестовой выборке: {test_acc}\")"
      ]
    },
    {
      "cell_type": "markdown",
      "metadata": {
        "id": "y2vh1TMAfdjb"
      },
      "source": [
        "Модель сверточной нейронной сети (CNN) обучалась в течение 10 эпох. Точность на тренировочной выборке постепенно увеличивалась от 35.56% на первой эпохе до 89.40% на последней. Валидационная точность также демонстрировала стабильный рост, достигнув 79.99% к десятой эпохе. На тестовой выборке модель показала точность 81.16%, что свидетельствует о хорошем качестве классификации, несмотря на некоторую разницу между тренировочной и тестовой точностью.\n",
        "\n",
        "Процесс обучения характеризуется улучшением значений как точности, так и потерь, что указывает на успешное обучение модели. Хотя точность тестовой выборки несколько ниже, чем на обучающей, результаты все же демонстрируют высокую способность модели к обобщению на новых данных."
      ]
    },
    {
      "cell_type": "code",
      "source": [
        "from sklearn.neighbors import KNeighborsClassifier\n",
        "from sklearn.metrics import classification_report, accuracy_score, confusion_matrix\n",
        "\n",
        "knn_model = KNeighborsClassifier(n_neighbors=5)\n",
        "knn_model.fit(X_train, y_train)\n",
        "y_pred_knn = knn_model.predict(X_test)\n",
        "\n",
        "print(f\"Точность: {accuracy_score(y_test, y_pred_knn)}\")\n",
        "print(f\"Классификационный отчет::\\n{classification_report(y_test, y_pred_knn)}\")\n",
        "print(f\"Матрица ошибок:\\n{confusion_matrix(y_test, y_pred_knn)}\")"
      ],
      "metadata": {
        "colab": {
          "base_uri": "https://localhost:8080/"
        },
        "id": "vy-l4Esij0t2",
        "outputId": "c3e6ba72-c9e1-4fa7-f5c1-8c352d39e4ff"
      },
      "execution_count": null,
      "outputs": [
        {
          "output_type": "stream",
          "name": "stdout",
          "text": [
            "Точность: 0.33386243386243386\n",
            "Классификационный отчет::\n",
            "              precision    recall  f1-score   support\n",
            "\n",
            "           0       0.40      0.59      0.48       637\n",
            "           1       0.65      0.49      0.56       627\n",
            "           2       0.29      0.61      0.39       637\n",
            "           3       0.19      0.01      0.02       558\n",
            "           4       1.00      0.01      0.01       521\n",
            "           5       0.43      0.30      0.35       398\n",
            "           6       0.15      0.01      0.02       497\n",
            "           7       0.25      0.01      0.02       632\n",
            "           8       0.65      0.11      0.19       533\n",
            "           9       0.26      0.98      0.41       630\n",
            "\n",
            "    accuracy                           0.33      5670\n",
            "   macro avg       0.43      0.31      0.24      5670\n",
            "weighted avg       0.42      0.33      0.25      5670\n",
            "\n",
            "Матрица ошибок:\n",
            "[[379   3 143   3   0  13   4   0   8  84]\n",
            " [  0 308   0   0   0   3   0   0   0 316]\n",
            " [ 40  20 391   1   0   7   2   0   4 172]\n",
            " [118  29 156   7   0  42   5   0  13 188]\n",
            " [171   0 194  15   3  17  10  15   7  89]\n",
            " [  6  45  45   1   0 118   0   0   0 183]\n",
            " [122   2 229   0   0  12   5   0   0 127]\n",
            " [ 35   8 148   3   0  14   5   5   0 414]\n",
            " [ 85  53  52   7   0  51   2   0  60 223]\n",
            " [  1   9   3   0   0   0   0   0   0 617]]\n"
          ]
        }
      ]
    },
    {
      "cell_type": "markdown",
      "source": [
        "Модель K-ближайших соседей (KNN) показала низкую точность на тестовой выборке — 33.39%. Классификационный отчет демонстрирует высокие проблемы в предсказаниях для большинства классов, за исключением класса 9, для которого модель имеет высокую точность (0.98 по recall), но низкие результаты по другим меткам.\n",
        "\n",
        "Матрица ошибок подтверждает эти выводы: модель часто ошибается в классификации, особенно для классов 3, 4 и 7, где наблюдаются большие ошибки, с множественными ошибочными предсказаниями на другие классы. В целом, использование KNN для этой задачи оказалось неэффективным, что может быть связано с характеристиками данных и выбранными параметрами модели."
      ],
      "metadata": {
        "id": "AulFY91N_dho"
      }
    },
    {
      "cell_type": "code",
      "source": [
        "# Импорт библиотек\n",
        "import numpy as np\n",
        "import os\n",
        "from tensorflow.keras.applications import VGG16\n",
        "from tensorflow.keras.preprocessing.image import load_img, img_to_array\n",
        "from sklearn.ensemble import RandomForestClassifier\n",
        "from sklearn.neighbors import KNeighborsClassifier\n",
        "from sklearn.metrics import accuracy_score, classification_report, confusion_matrix\n",
        "from sklearn.model_selection import train_test_split\n",
        "from tensorflow.keras.models import Sequential\n",
        "from tensorflow.keras.layers import Dense, Dropout"
      ],
      "metadata": {
        "id": "8K4JBniAiQAr"
      },
      "execution_count": null,
      "outputs": []
    },
    {
      "cell_type": "code",
      "source": [
        "def extract_features(filenames, image_dir, model, batch_size=32):\n",
        "    images = []\n",
        "    for filename in filenames:\n",
        "        img = load_img(os.path.join(image_dir, filename), target_size=(64, 64))\n",
        "        img_array = img_to_array(img)\n",
        "        images.append(img_array)\n",
        "\n",
        "    images = np.array(images) / 255.0  # нормализация\n",
        "\n",
        "    # Прогон через модель в батчах\n",
        "    features = model.predict(images, batch_size=batch_size, verbose=0)\n",
        "    return features.reshape(features.shape[0], -1)  # Преобразуем в двумерный массив"
      ],
      "metadata": {
        "id": "sKv1zjexiYDj"
      },
      "execution_count": null,
      "outputs": []
    },
    {
      "cell_type": "code",
      "source": [
        "image_dir = sat_path  # путь к папке с изображениями\n",
        "\n",
        "# Загрузка предобученной модели VGG16 без классификационного слоя\n",
        "base_model = VGG16(weights='imagenet', include_top=False, input_shape=(64, 64, 3))\n",
        "\n",
        "X_features = extract_features(train_data['Filename'], image_dir, base_model)\n",
        "y = train_data['Label']\n",
        "\n",
        "X_train, X_test, y_train, y_test = train_test_split(X_features, y, test_size=0.3, random_state=42)\n",
        "\n",
        "# Random Forest\n",
        "print(\"Обучение модели Random Forest...\")\n",
        "rf_model = RandomForestClassifier(n_estimators=100, max_depth=10, random_state=42)\n",
        "rf_model.fit(X_train, y_train)\n",
        "y_pred_rf = rf_model.predict(X_test)\n",
        "print(f\"Точность Random Forest: {accuracy_score(y_test, y_pred_rf)}\")\n",
        "print(f\"Классификационный отчет Random Forest:\\n{classification_report(y_test, y_pred_rf)}\")\n",
        "print(f\"Матрица ошибок Random Forest:\\n{confusion_matrix(y_test, y_pred_rf)}\")"
      ],
      "metadata": {
        "colab": {
          "base_uri": "https://localhost:8080/"
        },
        "id": "WhanV9_5lQ6K",
        "outputId": "87cc80ce-6d0b-4718-9409-99b0ad9620f3"
      },
      "execution_count": null,
      "outputs": [
        {
          "output_type": "stream",
          "name": "stdout",
          "text": [
            "Обучение модели Random Forest...\n",
            "Точность Random Forest: 0.7954144620811288\n",
            "Классификационный отчет Random Forest:\n",
            "              precision    recall  f1-score   support\n",
            "\n",
            "           0       0.78      0.89      0.83       637\n",
            "           1       0.89      0.90      0.90       627\n",
            "           2       0.77      0.78      0.78       637\n",
            "           3       0.69      0.57      0.62       558\n",
            "           4       0.84      0.91      0.87       521\n",
            "           5       0.68      0.72      0.70       398\n",
            "           6       0.67      0.63      0.65       497\n",
            "           7       0.85      0.90      0.88       632\n",
            "           8       0.70      0.63      0.67       533\n",
            "           9       0.96      0.92      0.94       630\n",
            "\n",
            "    accuracy                           0.80      5670\n",
            "   macro avg       0.78      0.79      0.78      5670\n",
            "weighted avg       0.79      0.80      0.79      5670\n",
            "\n",
            "Матрица ошибок Random Forest:\n",
            "[[570   2   0  17   0  14  14   0  15   5]\n",
            " [  2 566  14   0   0  30   0   0   4  11]\n",
            " [  2  24 498  23   1  13  33  29  13   1]\n",
            " [ 46   0  21 318  44   6  50  12  61   0]\n",
            " [  8   0   0   7 476   0  14  14   2   0]\n",
            " [  6  25  30   9   0 286  12   7  19   4]\n",
            " [ 36   1  48  22  21  14 311  28  16   0]\n",
            " [  0   0  23   1  11   2  20 571   4   0]\n",
            " [ 49   0  10  67  15  34  11   9 337   1]\n",
            " [ 10  15   0   0   0  20   0   0   8 577]]\n"
          ]
        }
      ]
    },
    {
      "cell_type": "markdown",
      "source": [
        "Модель Random Forest показала отличные результаты с точностью 79.54% на тестовой выборке. Классификационный отчет показывает хорошую производительность, особенно для классов 1, 9 и 7, где значения precision и recall высокие, что подтверждается высокой точностью предсказания для этих классов. Однако, для классов 3 и 5 точность значительно ниже, что видно из их более низких значений precision и recall.\n",
        "\n",
        "Матрица ошибок показывает, что большинство ошибок приходится на небольшие количества предсказаний в ошибочных классах. Например, класс 3 имеет значительное количество ошибок в предсказаниях других классов, но общая модель показывает сбалансированную работу для большинства меток. В целом, Random Forest демонстрирует хорошее сочетание точности и стабильности, особенно при использовании извлечённых признаков с помощью предобученной модели VGG16."
      ],
      "metadata": {
        "id": "XXaFpnrMtWDa"
      }
    },
    {
      "cell_type": "code",
      "source": [
        "# CNN\n",
        "print(\"Обучение простой нейросети на сверточных характеристиках...\")\n",
        "cnn_model = Sequential([\n",
        "    Dense(256, activation='relu', input_shape=(X_train.shape[1],)),\n",
        "    Dropout(0.5),\n",
        "    Dense(128, activation='relu'),\n",
        "    Dense(len(np.unique(y)), activation='softmax')\n",
        "])\n",
        "cnn_model.compile(optimizer='adam', loss='sparse_categorical_crossentropy', metrics=['accuracy'])\n",
        "history = cnn_model.fit(X_train, y_train, epochs=10, batch_size=32, validation_split=0.2)\n",
        "\n",
        "# Оценка модели CNN\n",
        "test_loss, test_acc = cnn_model.evaluate(X_test, y_test)\n",
        "print(f\"Точность CNN: {test_acc}\")"
      ],
      "metadata": {
        "colab": {
          "base_uri": "https://localhost:8080/"
        },
        "id": "Q6eyVzfylW4l",
        "outputId": "823c8711-c098-441b-8c17-5ce012f34143"
      },
      "execution_count": null,
      "outputs": [
        {
          "output_type": "stream",
          "name": "stdout",
          "text": [
            "Обучение простой нейросети на сверточных характеристиках...\n",
            "Epoch 1/10\n"
          ]
        },
        {
          "output_type": "stream",
          "name": "stderr",
          "text": [
            "/usr/local/lib/python3.10/dist-packages/keras/src/layers/core/dense.py:87: UserWarning: Do not pass an `input_shape`/`input_dim` argument to a layer. When using Sequential models, prefer using an `Input(shape)` object as the first layer in the model instead.\n",
            "  super().__init__(activity_regularizer=activity_regularizer, **kwargs)\n"
          ]
        },
        {
          "output_type": "stream",
          "name": "stdout",
          "text": [
            "\u001b[1m331/331\u001b[0m \u001b[32m━━━━━━━━━━━━━━━━━━━━\u001b[0m\u001b[37m\u001b[0m \u001b[1m7s\u001b[0m 17ms/step - accuracy: 0.5213 - loss: 1.3045 - val_accuracy: 0.7683 - val_loss: 0.6572\n",
            "Epoch 2/10\n",
            "\u001b[1m331/331\u001b[0m \u001b[32m━━━━━━━━━━━━━━━━━━━━\u001b[0m\u001b[37m\u001b[0m \u001b[1m4s\u001b[0m 13ms/step - accuracy: 0.7502 - loss: 0.7058 - val_accuracy: 0.8250 - val_loss: 0.5431\n",
            "Epoch 3/10\n",
            "\u001b[1m331/331\u001b[0m \u001b[32m━━━━━━━━━━━━━━━━━━━━\u001b[0m\u001b[37m\u001b[0m \u001b[1m4s\u001b[0m 8ms/step - accuracy: 0.7835 - loss: 0.6210 - val_accuracy: 0.8254 - val_loss: 0.5042\n",
            "Epoch 4/10\n",
            "\u001b[1m331/331\u001b[0m \u001b[32m━━━━━━━━━━━━━━━━━━━━\u001b[0m\u001b[37m\u001b[0m \u001b[1m3s\u001b[0m 9ms/step - accuracy: 0.8055 - loss: 0.5705 - val_accuracy: 0.8398 - val_loss: 0.4689\n",
            "Epoch 5/10\n",
            "\u001b[1m331/331\u001b[0m \u001b[32m━━━━━━━━━━━━━━━━━━━━\u001b[0m\u001b[37m\u001b[0m \u001b[1m5s\u001b[0m 9ms/step - accuracy: 0.8077 - loss: 0.5447 - val_accuracy: 0.8367 - val_loss: 0.4895\n",
            "Epoch 6/10\n",
            "\u001b[1m331/331\u001b[0m \u001b[32m━━━━━━━━━━━━━━━━━━━━\u001b[0m\u001b[37m\u001b[0m \u001b[1m5s\u001b[0m 9ms/step - accuracy: 0.8312 - loss: 0.4904 - val_accuracy: 0.8280 - val_loss: 0.4850\n",
            "Epoch 7/10\n",
            "\u001b[1m331/331\u001b[0m \u001b[32m━━━━━━━━━━━━━━━━━━━━\u001b[0m\u001b[37m\u001b[0m \u001b[1m4s\u001b[0m 11ms/step - accuracy: 0.8315 - loss: 0.4841 - val_accuracy: 0.8488 - val_loss: 0.4374\n",
            "Epoch 8/10\n",
            "\u001b[1m331/331\u001b[0m \u001b[32m━━━━━━━━━━━━━━━━━━━━\u001b[0m\u001b[37m\u001b[0m \u001b[1m4s\u001b[0m 11ms/step - accuracy: 0.8495 - loss: 0.4390 - val_accuracy: 0.8545 - val_loss: 0.4222\n",
            "Epoch 9/10\n",
            "\u001b[1m331/331\u001b[0m \u001b[32m━━━━━━━━━━━━━━━━━━━━\u001b[0m\u001b[37m\u001b[0m \u001b[1m3s\u001b[0m 9ms/step - accuracy: 0.8521 - loss: 0.4294 - val_accuracy: 0.8541 - val_loss: 0.4217\n",
            "Epoch 10/10\n",
            "\u001b[1m331/331\u001b[0m \u001b[32m━━━━━━━━━━━━━━━━━━━━\u001b[0m\u001b[37m\u001b[0m \u001b[1m3s\u001b[0m 9ms/step - accuracy: 0.8569 - loss: 0.4124 - val_accuracy: 0.8526 - val_loss: 0.4201\n",
            "\u001b[1m178/178\u001b[0m \u001b[32m━━━━━━━━━━━━━━━━━━━━\u001b[0m\u001b[37m\u001b[0m \u001b[1m0s\u001b[0m 3ms/step - accuracy: 0.8641 - loss: 0.4100\n",
            "Точность CNN: 0.8571428656578064\n"
          ]
        }
      ]
    },
    {
      "cell_type": "markdown",
      "source": [
        "Модель CNN, обученная на извлечённых сверточных признаках, продемонстрировала отличные результаты с точностью 85.71% на тестовой выборке. В процессе обучения нейросеть постепенно улучшала свои результаты, начиная с точности 52.13% на первой эпохе до 85.71% в финале. Этот прогресс свидетельствует о хорошем обучении модели, стабилизировавшейся к 10-й эпохе.\n",
        "\n",
        "Важно отметить, что модель использует dropout слой для регуляризации, что помогает предотвратить переобучение, а также достигает хорошей производительности на валидационных данных. В целом, CNN с использованием сверточных признаков из VGG16 показывает значительное улучшение по сравнению с традиционными методами классификации, такими как Random Forest и KNN."
      ],
      "metadata": {
        "id": "88kBSoDPtcht"
      }
    },
    {
      "cell_type": "code",
      "source": [
        "# KNN\n",
        "print(\"Обучение модели KNN...\")\n",
        "X_train_flat = X_train.reshape(X_train.shape[0], -1)\n",
        "X_test_flat = X_test.reshape(X_test.shape[0], -1)\n",
        "knn_model = KNeighborsClassifier(n_neighbors=5)\n",
        "knn_model.fit(X_train_flat, y_train)\n",
        "y_pred_knn = knn_model.predict(X_test_flat)\n",
        "print(f\"Точность KNN: {accuracy_score(y_test, y_pred_knn)}\")\n",
        "print(f\"Классификационный отчет KNN:\\n{classification_report(y_test, y_pred_knn)}\")\n",
        "print(f\"Матрица ошибок KNN:\\n{confusion_matrix(y_test, y_pred_knn)}\")"
      ],
      "metadata": {
        "colab": {
          "base_uri": "https://localhost:8080/"
        },
        "id": "l0N4A9f6lR6F",
        "outputId": "fd961e16-f721-4da5-8d1d-73de0046788f"
      },
      "execution_count": null,
      "outputs": [
        {
          "output_type": "stream",
          "name": "stdout",
          "text": [
            "Обучение модели KNN...\n",
            "Точность KNN: 0.7758377425044092\n",
            "Классификационный отчет KNN:\n",
            "              precision    recall  f1-score   support\n",
            "\n",
            "           0       0.83      0.84      0.83       637\n",
            "           1       0.75      0.97      0.85       627\n",
            "           2       0.74      0.78      0.76       637\n",
            "           3       0.69      0.61      0.65       558\n",
            "           4       0.89      0.80      0.84       521\n",
            "           5       0.59      0.63      0.61       398\n",
            "           6       0.64      0.67      0.66       497\n",
            "           7       0.85      0.89      0.87       632\n",
            "           8       0.75      0.58      0.65       533\n",
            "           9       0.97      0.88      0.92       630\n",
            "\n",
            "    accuracy                           0.78      5670\n",
            "   macro avg       0.77      0.76      0.76      5670\n",
            "weighted avg       0.78      0.78      0.77      5670\n",
            "\n",
            "Матрица ошибок KNN:\n",
            "[[534   7   0  25   0  20  23   0  20   8]\n",
            " [  0 607   4   3   0   5   0   0   2   6]\n",
            " [  1  46 496   9   0  14  41  22   7   1]\n",
            " [ 33   0  27 339  23  22  43  16  55   0]\n",
            " [  8   0   1  16 416   1  37  40   2   0]\n",
            " [ 11  83  38   2   0 250   6   2   4   2]\n",
            " [ 27   2  53  18  13  32 333  10   9   0]\n",
            " [  0   1  32   6   6   8  16 561   2   0]\n",
            " [ 26  12  21  73   7  55  20   8 308   3]\n",
            " [  3  50   0   0   0  20   0   0   2 555]]\n"
          ]
        }
      ]
    },
    {
      "cell_type": "markdown",
      "source": [
        "Модель KNN, обученная на признаках, извлечённых с помощью VGG16, показала точность 77,6% на тестовой выборке. Это результат достаточно хороший, однако он уступает точности нейросети, использующей те же признаки, которая достигла 85,7%. KNN хорошо справляется с классификацией некоторых классов, таких как класс 1 и класс 9, показывая высокую точность и отзыв, но для других классов, например, для класса 5, результаты оставляют желать лучшего. Ошибки чаще всего происходят при классификации схожих между собой классов, что также подтверждается матрицей ошибок.\n",
        "\n",
        "По сравнению с CNN, модель KNN продемонстрировала более низкие результаты, что связано с особенностями работы KNN, чувствительного к расстояниям между объектами, и ограничениями в обработке сложных зависимостей в данных. Несмотря на это, KNN остаётся полезным инструментом и может служить хорошей базовой моделью для сравнений с более сложными методами, такими как нейросети."
      ],
      "metadata": {
        "id": "iS27Nrchth2d"
      }
    },
    {
      "cell_type": "markdown",
      "source": [
        "В ходе работы мы применили метод извлечения признаков с использованием предобученной модели VGG16, которая прошла без классификационного слоя, что позволило нам получить мощные сверточные характеристики изображений. Эти характеристики затем использовались для обучения нескольких классификационных моделей, включая Random Forest, KNN и простую нейросеть.\n",
        "\n",
        "Результаты показали, что использование сверточных признаков, полученных с помощью VGG16, значительно улучшает производительность моделей. Модель Random Forest, обученная на этих признаках, достигла точности около 79%, а модель нейросети продемонстрировала ещё более высокую точность — 85,7%. Модель KNN также показала достойный результат с точностью 77,6%, несмотря на свою относительную простоту по сравнению с более сложными методами.\n",
        "\n",
        "Таким образом, использование предобученной сверточной нейросети в качестве основы для извлечения признаков позволило улучшить классификацию и извлечь более информативные характеристики, чем если бы мы использовали исходные пиксели изображений. Это демонстрирует эффективность использования трансферного обучения для задач классификации, где глубокие нейросети могут служить мощным инструментом для автоматического извлечения признаков и улучшения качества моделей.\n",
        "\n",
        "\n",
        "\n",
        "\n",
        "\n",
        "\n"
      ],
      "metadata": {
        "id": "Elmk7E4JtmQz"
      }
    }
  ],
  "metadata": {
    "colab": {
      "provenance": []
    },
    "kernelspec": {
      "display_name": "Python 3",
      "name": "python3"
    },
    "language_info": {
      "name": "python"
    }
  },
  "nbformat": 4,
  "nbformat_minor": 0
}